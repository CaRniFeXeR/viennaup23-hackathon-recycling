{
 "cells": [
  {
   "cell_type": "code",
   "execution_count": 1,
   "metadata": {},
   "outputs": [],
   "source": [
    "import torch\n",
    "import torch.nn as nn\n",
    "import torch.optim as optim\n",
    "from torch.utils.data import Dataset, DataLoader\n",
    "from torchinfo import summary\n",
    "from extract_features import get_features\n",
    "from tqdm.auto import tqdm, trange\n",
    "import matplotlib.pyplot as plt\n",
    "import numpy as np\n",
    "import json\n",
    "import os"
   ]
  },
  {
   "cell_type": "code",
   "execution_count": 2,
   "metadata": {},
   "outputs": [
    {
     "data": {
      "application/vnd.jupyter.widget-view+json": {
       "model_id": "7a582886af9a4b4c989f9ceaef53df7b",
       "version_major": 2,
       "version_minor": 0
      },
      "text/plain": [
       "  0%|          | 0/56 [00:00<?, ?it/s]"
      ]
     },
     "metadata": {},
     "output_type": "display_data"
    },
    {
     "name": "stderr",
     "output_type": "stream",
     "text": [
      "/data/mburges/miniconda/envs/SegAny/lib/python3.10/site-packages/transformers/models/owlvit/image_processing_owlvit.py:355: FutureWarning: `post_process` is deprecated and will be removed in v5 of Transformers, please use `post_process_object_detection`\n",
      "  warnings.warn(\n"
     ]
    }
   ],
   "source": [
    "semi = True\n",
    "\n",
    "if semi:\n",
    "    features = get_features()\n",
    "\n",
    "    features_torch = []\n",
    "    class_ids_torch = []\n",
    "\n",
    "    # extract features and make tensors\n",
    "    for feature in features:\n",
    "        feature_tensor = feature[0].detach().cpu()\n",
    "        label = feature[1]\n",
    "        class_id = feature[2]\n",
    "\n",
    "        features_torch.append(feature_tensor)\n",
    "        class_ids_torch.append(torch.as_tensor(class_id))\n",
    "\n",
    "    # stack lists:\n",
    "    X_data = torch.stack(features_torch)\n",
    "    y_data = torch.stack(class_ids_torch)\n",
    "else:\n",
    "    root_dir = '/caa/Homes01/mburges/viennaup23-hackathon-recycling/backend/data/'\n",
    "    data_json = json.load(open(root_dir + 'labels.json'))\n",
    "\n",
    "    features_path = os.path.join(root_dir, 'images')\n",
    "\n",
    "    features_torch = []\n",
    "    class_ids_torch = []\n",
    "    for file in data_json:\n",
    "        print(file, data_json[file])\n",
    "        file = file.replace('.jpg', '.npy')\n",
    "        features = np.load(os.path.join(features_path, file))\n",
    "\n",
    "        features_torch.append(torch.as_tensor(features))\n",
    "        class_ids_torch.append(torch.as_tensor(data_json[file]))\n",
    "    \n",
    "    # stack lists:\n",
    "    X_data = torch.stack(features_torch)\n",
    "    y_data = torch.stack(class_ids_torch)"
   ]
  },
  {
   "cell_type": "code",
   "execution_count": null,
   "metadata": {},
   "outputs": [],
   "source": []
  },
  {
   "cell_type": "code",
   "execution_count": 3,
   "metadata": {},
   "outputs": [
    {
     "name": "stdout",
     "output_type": "stream",
     "text": [
      "==========================================================================================\n",
      "Layer (type:depth-idx)                   Output Shape              Param #\n",
      "==========================================================================================\n",
      "FloKo                                    [3]                       --\n",
      "├─Linear: 1-1                            [50]                      38,450\n",
      "├─ReLU: 1-2                              [50]                      --\n",
      "├─Linear: 1-3                            [2]                       102\n",
      "├─Linear: 1-4                            [3]                       9\n",
      "├─Sigmoid: 1-5                           [3]                       --\n",
      "==========================================================================================\n",
      "Total params: 38,561\n",
      "Trainable params: 38,561\n",
      "Non-trainable params: 0\n",
      "Total mult-adds (M): 1.92\n",
      "==========================================================================================\n",
      "Input size (MB): 0.00\n",
      "Forward/backward pass size (MB): 0.00\n",
      "Params size (MB): 0.15\n",
      "Estimated Total Size (MB): 0.16\n",
      "==========================================================================================\n"
     ]
    }
   ],
   "source": [
    "class FloKo(nn.Module):\n",
    "    def __init__(self):\n",
    "        super(FloKo, self).__init__()\n",
    "        self.fc = nn.Linear(768, 50)\n",
    "        self.relu = nn.ReLU()\n",
    "        self.fc3 = nn.Linear(50, 2)\n",
    "        self.fc4 = nn.Linear(2, torch.stack(class_ids_torch).max()+1)\n",
    "        self.sigmoid = nn.Sigmoid()\n",
    "\n",
    "\n",
    "    def forward(self, x):\n",
    "        x = self.fc(x)\n",
    "        x = self.relu(x)\n",
    "        intermediate = self.fc3(x)\n",
    "        x = self.fc4(intermediate)\n",
    "        x = self.sigmoid(x)\n",
    "\n",
    "        return x, intermediate\n",
    "\n",
    "model = FloKo()\n",
    "\n",
    "print(summary(model, (768,)))"
   ]
  },
  {
   "cell_type": "code",
   "execution_count": 4,
   "metadata": {},
   "outputs": [
    {
     "data": {
      "application/vnd.jupyter.widget-view+json": {
       "model_id": "5e92704797b14e0b837aacff6c0522d1",
       "version_major": 2,
       "version_minor": 0
      },
      "text/plain": [
       "  0%|          | 0/100 [00:00<?, ?it/s]"
      ]
     },
     "metadata": {},
     "output_type": "display_data"
    }
   ],
   "source": [
    "# Training loop\n",
    "num_epochs = 100\n",
    "model.to(\"cuda\")\n",
    "\n",
    "# split data into train and test\n",
    "X_train = X_data[:int(len(X_data)*0.8)]\n",
    "y_train = y_data[:int(len(y_data)*0.8)]\n",
    "\n",
    "X_test = X_data[int(len(X_data)*0.8):]\n",
    "y_test = y_data[int(len(y_data)*0.8):]\n",
    "\n",
    "\n",
    "# Create a TensorDataset\n",
    "dataset_train = torch.utils.data.TensorDataset(X_train, y_train)\n",
    "# Create a TensorDataset\n",
    "dataset_test = torch.utils.data.TensorDataset(X_test, y_test)\n",
    "# Create a DataLoader\n",
    "batch_size = 10\n",
    "dataloader = DataLoader(dataset_train, batch_size=batch_size, shuffle=True)\n",
    "\n",
    "optimizer = optim.Adam(model.parameters(), lr=0.001)\n",
    "loss_function = nn.CrossEntropyLoss()\n",
    "\n",
    "losses = []\n",
    "for epoch in trange(num_epochs):\n",
    "    total_loss = []\n",
    "    for inputs, targets in dataloader:\n",
    "        # Zero the gradients\n",
    "        optimizer.zero_grad()\n",
    "\n",
    "        inputs = inputs.to(\"cuda\")\n",
    "        targets = targets.to(\"cuda\")\n",
    "\n",
    "        # encode targets hot one\n",
    "        targets = torch.nn.functional.one_hot(targets, num_classes=3).float()\n",
    "        \n",
    "        # Forward pass\n",
    "        output, intermediate = model(inputs)\n",
    "        \n",
    "        # Compute the loss\n",
    "        loss = loss_function(output, target=targets)\n",
    "        \n",
    "        # Backward pass\n",
    "        loss.backward()\n",
    "        \n",
    "        # Update the weights\n",
    "        optimizer.step()\n",
    "        total_loss.append(loss.item())\n",
    "    losses.append(np.mean(total_loss))\n"
   ]
  },
  {
   "cell_type": "code",
   "execution_count": 5,
   "metadata": {},
   "outputs": [
    {
     "data": {
      "image/png": "[encoded data removed]",
      "text/plain": [
       "<Figure size 640x480 with 1 Axes>"
      ]
     },
     "metadata": {},
     "output_type": "display_data"
    }
   ],
   "source": [
    "# plot loss\n",
    "plt.plot(losses)\n",
    "plt.show()"
   ]
  },
  {
   "cell_type": "code",
   "execution_count": 6,
   "metadata": {},
   "outputs": [
    {
     "data": {
      "application/vnd.jupyter.widget-view+json": {
       "model_id": "e4fb07c8d9774854a0e90f7af915f1b9",
       "version_major": 2,
       "version_minor": 0
      },
      "text/plain": [
       "  0%|          | 0/48 [00:00<?, ?it/s]"
      ]
     },
     "metadata": {},
     "output_type": "display_data"
    },
    {
     "ename": "ValueError",
     "evalue": "not enough values to unpack (expected 2, got 1)",
     "output_type": "error",
     "traceback": [
      "\u001b[0;31m---------------------------------------------------------------------------\u001b[0m",
      "\u001b[0;31mValueError\u001b[0m                                Traceback (most recent call last)",
      "Cell \u001b[0;32mIn[6], line 11\u001b[0m\n\u001b[1;32m      8\u001b[0m class_ids \u001b[39m=\u001b[39m []\n\u001b[1;32m      9\u001b[0m predictions \u001b[39m=\u001b[39m []\n\u001b[0;32m---> 11\u001b[0m \u001b[39mfor\u001b[39;00m inputs, labels \u001b[39min\u001b[39;00m tqdm(test_loader):\n\u001b[1;32m     12\u001b[0m     inputs \u001b[39m=\u001b[39m inputs\u001b[39m.\u001b[39mcuda()\n\u001b[1;32m     13\u001b[0m     outputs, intermediate \u001b[39m=\u001b[39m model(inputs)\n",
      "\u001b[0;31mValueError\u001b[0m: not enough values to unpack (expected 2, got 1)"
     ]
    }
   ],
   "source": [
    "# run model over dataset and get features\n",
    "\n",
    "test_loader = torch.utils.data.DataLoader(dataset_test, batch_size=1, shuffle=False)\n",
    "\n",
    "model.eval()\n",
    "\n",
    "features = []\n",
    "class_ids = []\n",
    "predictions = []\n",
    "\n",
    "for inputs, labels in tqdm(test_loader):\n",
    "    inputs = inputs.cuda()\n",
    "    outputs, intermediate = model(inputs)\n",
    "    features.append(intermediate.squeeze().detach().cpu().numpy())\n",
    "    predictions.append(outputs.squeeze().detach().cpu().numpy())\n",
    "    class_ids.append(labels.detach().cpu().numpy())\n",
    "\n",
    "features = np.array(features)\n",
    "class_ids = np.array(class_ids)\n",
    "predictions = np.argmax(np.array(predictions), axis=1)\n",
    "\n",
    "print(features.shape)\n",
    "print(class_ids.shape)\n",
    "print(predictions.shape)"
   ]
  },
  {
   "cell_type": "code",
   "execution_count": null,
   "metadata": {},
   "outputs": [],
   "source": [
    "# Get weights of last layer\n",
    "weights = model.fc4.weight.detach().cpu().numpy()\n",
    "\n",
    "# plot features and labels in matplotlib\n",
    "fig, (ax1, ax2) = plt.subplots(1, 2, figsize=(10, 5))\n",
    "ax1.set_title('Labels')\n",
    "ax1.scatter(features[:, 0], features[:, 1], c=class_ids, cmap='coolwarm')\n",
    "ax2.set_title('Predictions')\n",
    "ax2.scatter(features[:, 0], features[:, 1], c=predictions, cmap='coolwarm')\n",
    "#draw lines of weights\n",
    "\n",
    "plt.show()"
   ]
  }
 ],
 "metadata": {
  "kernelspec": {
   "display_name": "SegAny",
   "language": "python",
   "name": "python3"
  },
  "language_info": {
   "codemirror_mode": {
    "name": "ipython",
    "version": 3
   },
   "file_extension": ".py",
   "mimetype": "text/x-python",
   "name": "python",
   "nbconvert_exporter": "python",
   "pygments_lexer": "ipython3",
   "version": "3.10.11"
  },
  "orig_nbformat": 4
 },
 "nbformat": 4,
 "nbformat_minor": 2
}
